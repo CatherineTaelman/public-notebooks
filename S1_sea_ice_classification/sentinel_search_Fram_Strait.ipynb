{
 "cells": [
  {
   "cell_type": "code",
   "execution_count": 1,
   "id": "b58a4e61-67e4-48fd-9bab-3b6319524880",
   "metadata": {},
   "outputs": [],
   "source": [
    "from sentinelsat import SentinelAPI, read_geojson, geojson_to_wkt\n",
    "from dateparser import parse\n",
    "import datetime\n",
    "from pathlib import Path\n",
    "from dotenv import load_dotenv\n",
    "from loguru import logger"
   ]
  },
  {
   "cell_type": "markdown",
   "id": "d8bb50c2-8f8f-47d0-954c-d35c6a9e01eb",
   "metadata": {},
   "source": [
    "#### Load environment variables containing username and password for Copernicus Scihub"
   ]
  },
  {
   "cell_type": "code",
   "execution_count": null,
   "id": "39747ddd-229f-49ad-a252-6573f1d8e877",
   "metadata": {},
   "outputs": [],
   "source": [
    "load_dotenv()\n",
    "    \n",
    "try:\n",
    "    os.environ[\"DHUS_USER\"]\n",
    "except:\n",
    "    logger.error(\"The environment variable 'DHUS_USER' is not set! Exiting...\")\n",
    "    raise KeyError(\"The environment variable 'DHUS_USER' is not set!\")\n",
    "\n",
    "try:\n",
    "    os.environ[\"DHUS_PASSWORD\"]\n",
    "except:\n",
    "    logger.error(\"The environment variable 'DHUS_PASSWORD' is not set! Exiting...\")\n",
    "    raise KeyError(\"The environment variable 'DHUS_PASSWORD' is not set!\")\n"
   ]
  },
  {
   "cell_type": "code",
   "execution_count": 2,
   "id": "9338397b-7c04-4064-bc7a-96b1bc33d1ed",
   "metadata": {},
   "outputs": [
    {
     "ename": "UnauthorizedError",
     "evalue": "Invalid user name or password. Note that account creation and password changes may take up to a week to propagate to the 'https://apihub.copernicus.eu/apihub/' API URL you are using. Consider switching to 'https://scihub.copernicus.eu/dhus/' instead in the mean time.",
     "output_type": "error",
     "traceback": [
      "\u001b[0;31m---------------------------------------------------------------------------\u001b[0m",
      "\u001b[0;31mHTTPError\u001b[0m                                 Traceback (most recent call last)",
      "File \u001b[0;32m/opt/conda/lib/python3.10/site-packages/sentinelsat/sentinel.py:1017\u001b[0m, in \u001b[0;36mSentinelAPI._check_scihub_response\u001b[0;34m(response, test_json, query_string)\u001b[0m\n\u001b[1;32m   1016\u001b[0m \u001b[38;5;28;01mtry\u001b[39;00m:\n\u001b[0;32m-> 1017\u001b[0m     \u001b[43mresponse\u001b[49m\u001b[38;5;241;43m.\u001b[39;49m\u001b[43mraise_for_status\u001b[49m\u001b[43m(\u001b[49m\u001b[43m)\u001b[49m\n\u001b[1;32m   1018\u001b[0m     \u001b[38;5;28;01mif\u001b[39;00m test_json:\n",
      "File \u001b[0;32m/opt/conda/lib/python3.10/site-packages/requests/models.py:1021\u001b[0m, in \u001b[0;36mResponse.raise_for_status\u001b[0;34m(self)\u001b[0m\n\u001b[1;32m   1020\u001b[0m \u001b[38;5;28;01mif\u001b[39;00m http_error_msg:\n\u001b[0;32m-> 1021\u001b[0m     \u001b[38;5;28;01mraise\u001b[39;00m HTTPError(http_error_msg, response\u001b[38;5;241m=\u001b[39m\u001b[38;5;28mself\u001b[39m)\n",
      "\u001b[0;31mHTTPError\u001b[0m: 401 Client Error:  for url: https://apihub.copernicus.eu/apihub/search?format=json&rows=100&start=0&q=beginPosition%3A%5B%222020-12-01T00%3A00%3A00Z%22+TO+%222021-06-01T00%3A00%3A00Z%22%5D+platformname%3A%22Sentinel-1%22+producttype%3A%22GRD%22+footprint%3A%22Intersects%28GEOMETRYCOLLECTION%28POLYGON%28%28-11.9783+80.0608%2C-17.0274+78.6782%2C-16.3002+77.2552%2C-1.1040+77.0094%2C0.7741+79.6387%2C-11.9783+80.0608%29%29%29%29%22",
      "\nDuring handling of the above exception, another exception occurred:\n",
      "\u001b[0;31mUnauthorizedError\u001b[0m                         Traceback (most recent call last)",
      "Cell \u001b[0;32mIn[2], line 18\u001b[0m\n\u001b[1;32m     15\u001b[0m endtime \u001b[38;5;241m=\u001b[39m parse(endtime, settings\u001b[38;5;241m=\u001b[39m{\u001b[38;5;124m\"\u001b[39m\u001b[38;5;124mDATE_ORDER\u001b[39m\u001b[38;5;124m\"\u001b[39m: \u001b[38;5;124m\"\u001b[39m\u001b[38;5;124mYMD\u001b[39m\u001b[38;5;124m\"\u001b[39m})\n\u001b[1;32m     17\u001b[0m \u001b[38;5;66;03m# query for specific product\u001b[39;00m\n\u001b[0;32m---> 18\u001b[0m s1_products \u001b[38;5;241m=\u001b[39m \u001b[43mapi\u001b[49m\u001b[38;5;241;43m.\u001b[39;49m\u001b[43mquery\u001b[49m\u001b[43m(\u001b[49m\n\u001b[1;32m     19\u001b[0m \u001b[43m                \u001b[49m\u001b[43mgeojson_to_wkt\u001b[49m\u001b[43m(\u001b[49m\u001b[43mread_geojson\u001b[49m\u001b[43m(\u001b[49m\u001b[43mpolygon_path\u001b[49m\u001b[43m)\u001b[49m\u001b[43m)\u001b[49m\u001b[43m,\u001b[49m\n\u001b[1;32m     20\u001b[0m \u001b[43m                \u001b[49m\u001b[43mdate\u001b[49m\u001b[38;5;241;43m=\u001b[39;49m\u001b[43m(\u001b[49m\u001b[43mstarttime\u001b[49m\u001b[43m,\u001b[49m\u001b[43m \u001b[49m\u001b[43mendtime\u001b[49m\u001b[43m)\u001b[49m\u001b[43m,\u001b[49m\n\u001b[1;32m     21\u001b[0m \u001b[43m                \u001b[49m\u001b[43mplatformname\u001b[49m\u001b[38;5;241;43m=\u001b[39;49m\u001b[38;5;124;43m\"\u001b[39;49m\u001b[38;5;124;43mSentinel-1\u001b[39;49m\u001b[38;5;124;43m\"\u001b[39;49m\u001b[43m,\u001b[49m\n\u001b[1;32m     22\u001b[0m \u001b[43m                \u001b[49m\u001b[43mproducttype\u001b[49m\u001b[38;5;241;43m=\u001b[39;49m\u001b[38;5;124;43m\"\u001b[39;49m\u001b[38;5;124;43mGRD\u001b[39;49m\u001b[38;5;124;43m\"\u001b[39;49m\u001b[43m,\u001b[49m\n\u001b[1;32m     23\u001b[0m \u001b[43m                \u001b[49m\u001b[43m)\u001b[49m\n\u001b[1;32m     25\u001b[0m s1_list_with_overlap \u001b[38;5;241m=\u001b[39m []\n\u001b[1;32m     26\u001b[0m s1_s2_overlap \u001b[38;5;241m=\u001b[39m {}\n",
      "File \u001b[0;32m/opt/conda/lib/python3.10/site-packages/sentinelsat/sentinel.py:282\u001b[0m, in \u001b[0;36mSentinelAPI.query\u001b[0;34m(self, area, date, raw, area_relation, order_by, limit, offset, **keywords)\u001b[0m\n\u001b[1;32m    274\u001b[0m \u001b[38;5;28mself\u001b[39m\u001b[38;5;241m.\u001b[39mlogger\u001b[38;5;241m.\u001b[39mdebug(\n\u001b[1;32m    275\u001b[0m     \u001b[38;5;124m\"\u001b[39m\u001b[38;5;124mRunning query: order_by=\u001b[39m\u001b[38;5;132;01m%s\u001b[39;00m\u001b[38;5;124m, limit=\u001b[39m\u001b[38;5;132;01m%s\u001b[39;00m\u001b[38;5;124m, offset=\u001b[39m\u001b[38;5;132;01m%s\u001b[39;00m\u001b[38;5;124m, query=\u001b[39m\u001b[38;5;132;01m%s\u001b[39;00m\u001b[38;5;124m\"\u001b[39m,\n\u001b[1;32m    276\u001b[0m     order_by,\n\u001b[0;32m   (...)\u001b[0m\n\u001b[1;32m    279\u001b[0m     query,\n\u001b[1;32m    280\u001b[0m )\n\u001b[1;32m    281\u001b[0m formatted_order_by \u001b[38;5;241m=\u001b[39m _format_order_by(order_by)\n\u001b[0;32m--> 282\u001b[0m response, count \u001b[38;5;241m=\u001b[39m \u001b[38;5;28;43mself\u001b[39;49m\u001b[38;5;241;43m.\u001b[39;49m\u001b[43m_load_query\u001b[49m\u001b[43m(\u001b[49m\u001b[43mquery\u001b[49m\u001b[43m,\u001b[49m\u001b[43m \u001b[49m\u001b[43mformatted_order_by\u001b[49m\u001b[43m,\u001b[49m\u001b[43m \u001b[49m\u001b[43mlimit\u001b[49m\u001b[43m,\u001b[49m\u001b[43m \u001b[49m\u001b[43moffset\u001b[49m\u001b[43m)\u001b[49m\n\u001b[1;32m    283\u001b[0m \u001b[38;5;28mself\u001b[39m\u001b[38;5;241m.\u001b[39mlogger\u001b[38;5;241m.\u001b[39minfo(\u001b[38;5;124mf\u001b[39m\u001b[38;5;124m\"\u001b[39m\u001b[38;5;124mFound \u001b[39m\u001b[38;5;132;01m{\u001b[39;00mcount\u001b[38;5;132;01m:\u001b[39;00m\u001b[38;5;124m,\u001b[39m\u001b[38;5;132;01m}\u001b[39;00m\u001b[38;5;124m products\u001b[39m\u001b[38;5;124m\"\u001b[39m)\n\u001b[1;32m    284\u001b[0m \u001b[38;5;28;01mreturn\u001b[39;00m _parse_opensearch_response(response)\n",
      "File \u001b[0;32m/opt/conda/lib/python3.10/site-packages/sentinelsat/sentinel.py:355\u001b[0m, in \u001b[0;36mSentinelAPI._load_query\u001b[0;34m(self, query, order_by, limit, offset)\u001b[0m\n\u001b[1;32m    354\u001b[0m \u001b[38;5;28;01mdef\u001b[39;00m \u001b[38;5;21m_load_query\u001b[39m(\u001b[38;5;28mself\u001b[39m, query, order_by\u001b[38;5;241m=\u001b[39m\u001b[38;5;28;01mNone\u001b[39;00m, limit\u001b[38;5;241m=\u001b[39m\u001b[38;5;28;01mNone\u001b[39;00m, offset\u001b[38;5;241m=\u001b[39m\u001b[38;5;241m0\u001b[39m):\n\u001b[0;32m--> 355\u001b[0m     products, count \u001b[38;5;241m=\u001b[39m \u001b[38;5;28;43mself\u001b[39;49m\u001b[38;5;241;43m.\u001b[39;49m\u001b[43m_load_subquery\u001b[49m\u001b[43m(\u001b[49m\u001b[43mquery\u001b[49m\u001b[43m,\u001b[49m\u001b[43m \u001b[49m\u001b[43morder_by\u001b[49m\u001b[43m,\u001b[49m\u001b[43m \u001b[49m\u001b[43mlimit\u001b[49m\u001b[43m,\u001b[49m\u001b[43m \u001b[49m\u001b[43moffset\u001b[49m\u001b[43m)\u001b[49m\n\u001b[1;32m    357\u001b[0m     \u001b[38;5;66;03m# repeat query until all results have been loaded\u001b[39;00m\n\u001b[1;32m    358\u001b[0m     max_offset \u001b[38;5;241m=\u001b[39m count\n",
      "File \u001b[0;32m/opt/conda/lib/python3.10/site-packages/sentinelsat/sentinel.py:389\u001b[0m, in \u001b[0;36mSentinelAPI._load_subquery\u001b[0;34m(self, query, order_by, limit, offset)\u001b[0m\n\u001b[1;32m    387\u001b[0m \u001b[38;5;28;01mwith\u001b[39;00m \u001b[38;5;28mself\u001b[39m\u001b[38;5;241m.\u001b[39mdl_limit_semaphore:\n\u001b[1;32m    388\u001b[0m     response \u001b[38;5;241m=\u001b[39m \u001b[38;5;28mself\u001b[39m\u001b[38;5;241m.\u001b[39msession\u001b[38;5;241m.\u001b[39mget(url, params\u001b[38;5;241m=\u001b[39m{\u001b[38;5;124m\"\u001b[39m\u001b[38;5;124mq\u001b[39m\u001b[38;5;124m\"\u001b[39m: query\u001b[38;5;241m.\u001b[39mencode(\u001b[38;5;124m\"\u001b[39m\u001b[38;5;124mlatin1\u001b[39m\u001b[38;5;124m\"\u001b[39m)})\n\u001b[0;32m--> 389\u001b[0m \u001b[38;5;28;43mself\u001b[39;49m\u001b[38;5;241;43m.\u001b[39;49m\u001b[43m_check_scihub_response\u001b[49m\u001b[43m(\u001b[49m\u001b[43mresponse\u001b[49m\u001b[43m,\u001b[49m\u001b[43m \u001b[49m\u001b[43mquery_string\u001b[49m\u001b[38;5;241;43m=\u001b[39;49m\u001b[43mquery\u001b[49m\u001b[43m)\u001b[49m\n\u001b[1;32m    391\u001b[0m \u001b[38;5;66;03m# store last status code (for testing)\u001b[39;00m\n\u001b[1;32m    392\u001b[0m \u001b[38;5;28mself\u001b[39m\u001b[38;5;241m.\u001b[39m_last_response \u001b[38;5;241m=\u001b[39m response\n",
      "File \u001b[0;32m/opt/conda/lib/python3.10/site-packages/sentinelsat/sentinel.py:1047\u001b[0m, in \u001b[0;36mSentinelAPI._check_scihub_response\u001b[0;34m(response, test_json, query_string)\u001b[0m\n\u001b[1;32m   1041\u001b[0m     \u001b[38;5;28;01mif\u001b[39;00m \u001b[38;5;124m\"\u001b[39m\u001b[38;5;124mapihub.copernicus.eu/apihub\u001b[39m\u001b[38;5;124m\"\u001b[39m \u001b[38;5;129;01min\u001b[39;00m response\u001b[38;5;241m.\u001b[39murl:\n\u001b[1;32m   1042\u001b[0m         msg \u001b[38;5;241m+\u001b[39m\u001b[38;5;241m=\u001b[39m (\n\u001b[1;32m   1043\u001b[0m             \u001b[38;5;124m\"\u001b[39m\u001b[38;5;124m. Note that account creation and password changes may take up to a week \u001b[39m\u001b[38;5;124m\"\u001b[39m\n\u001b[1;32m   1044\u001b[0m             \u001b[38;5;124m\"\u001b[39m\u001b[38;5;124mto propagate to the \u001b[39m\u001b[38;5;124m'\u001b[39m\u001b[38;5;124mhttps://apihub.copernicus.eu/apihub/\u001b[39m\u001b[38;5;124m'\u001b[39m\u001b[38;5;124m API URL you are using. \u001b[39m\u001b[38;5;124m\"\u001b[39m\n\u001b[1;32m   1045\u001b[0m             \u001b[38;5;124m\"\u001b[39m\u001b[38;5;124mConsider switching to \u001b[39m\u001b[38;5;124m'\u001b[39m\u001b[38;5;124mhttps://scihub.copernicus.eu/dhus/\u001b[39m\u001b[38;5;124m'\u001b[39m\u001b[38;5;124m instead in the mean time.\u001b[39m\u001b[38;5;124m\"\u001b[39m\n\u001b[1;32m   1046\u001b[0m         )\n\u001b[0;32m-> 1047\u001b[0m     \u001b[38;5;28;01mraise\u001b[39;00m UnauthorizedError(msg, response)\n\u001b[1;32m   1048\u001b[0m \u001b[38;5;28;01melif\u001b[39;00m \u001b[38;5;124m\"\u001b[39m\u001b[38;5;124mRequest Entity Too Large\u001b[39m\u001b[38;5;124m\"\u001b[39m \u001b[38;5;129;01min\u001b[39;00m msg \u001b[38;5;129;01mor\u001b[39;00m \u001b[38;5;124m\"\u001b[39m\u001b[38;5;124mRequest-URI Too Long\u001b[39m\u001b[38;5;124m\"\u001b[39m \u001b[38;5;129;01min\u001b[39;00m msg:\n\u001b[1;32m   1049\u001b[0m     msg \u001b[38;5;241m=\u001b[39m \u001b[38;5;124m\"\u001b[39m\u001b[38;5;124mServer was unable to process the query due to its excessive length\u001b[39m\u001b[38;5;124m\"\u001b[39m\n",
      "\u001b[0;31mUnauthorizedError\u001b[0m: Invalid user name or password. Note that account creation and password changes may take up to a week to propagate to the 'https://apihub.copernicus.eu/apihub/' API URL you are using. Consider switching to 'https://scihub.copernicus.eu/dhus/' instead in the mean time."
     ]
    }
   ],
   "source": [
    "# establish connection to Copernicus Scihub\n",
    "api = SentinelAPI(os.environ[\"DHUS_USER\"], os.environ[\"DHUS_PASSWORD\"])\n",
    "\n",
    "# search over Fram Strait for S1 imagery (from 1st Dec 2020 to 1st June 2021)\n",
    "# use custom geojson files containing search polygon\n",
    "area = './rois/Fram_Strait.geojson'\n",
    "polygon_path = Path(area).expanduser().absolute()\n",
    "\n",
    "# search from 1st Dec 2020 to 1st June 2021\n",
    "starttime = \"2020-12-01\"\n",
    "endtime = \"2021-06-01\"\n",
    "starttime = parse(starttime, settings={\"DATE_ORDER\": \"YMD\"})\n",
    "endtime = parse(endtime, settings={\"DATE_ORDER\": \"YMD\"})\n",
    "\n",
    "# query for specific product\n",
    "s1_products = api.query(\n",
    "                geojson_to_wkt(read_geojson(polygon_path)),\n",
    "                date=(starttime, endtime),\n",
    "                platformname=\"Sentinel-1\",\n",
    "                producttype=\"GRD\",\n",
    "                )\n",
    "\n",
    "s1_list_with_overlap = []\n",
    "s1_s2_overlap = {}\n",
    "\n",
    "# iterate over query results to check for overlapping S2\n",
    "for product in s1_products:\n",
    "\n",
    "    # retrieve some properties of the S1 product\n",
    "    s1_footprint = s1_products[product]['footprint']\n",
    "    s1_identifier = s1_products[product]['identifier']\n",
    "    s1_timestamp = s1_products[product]['beginposition']\n",
    "\n",
    "    # look for S2 imagery taken 2 hours before or after S1 acquisition\n",
    "    timedelta = datetime.timedelta(hours = 2) \n",
    "    s2_starttime = s1_timestamp - timedelta\n",
    "    s2_endtime = s1_timestamp + timedelta\n",
    "\n",
    "    #starttime = parse(starttime, settings={\"DATE_ORDER\": \"YMD\"})\n",
    "    #endtime = parse(endtime, settings={\"DATE_ORDER\": \"YMD\"})\n",
    "\n",
    "    s2_products = api.query(area = s1_footprint,\n",
    "                            date = (s2_starttime, s2_endtime),\n",
    "                            platformname=\"Sentinel-2\",\n",
    "                            processinglevel=\"Level-1C\",\n",
    "                            cloudcoverpercentage=(0, 30)\n",
    "                            )\n",
    "    # if overlapping S2 scenes found, add the S1 id and corresponding S2 query results in dictionary\n",
    "    if not len(s2_products) == 0:\n",
    "        s1_list_with_overlap.append(product)\n",
    "        s1_s2_overlap[product] = s2_products\n",
    "        \n",
    "# this list is contains the S1 scenes that have overlapping S2 imagery\n",
    "print('Found', len(s1_list_with_overlap), 'S1 scenes with overlapping S2 imagery.')\n",
    "print(s1_list_with_overlap)\n",
    "\n",
    "# make copy of the original query results\n",
    "s1_products_with_overlap = s1_products.copy()\n",
    "\n",
    "# loop over all original query results and only keep the ones that have overlapping S2\n",
    "for product in s1_products:\n",
    "    if not product in s1_list_with_overlap:\n",
    "        del s1_products_overlap[product]"
   ]
  },
  {
   "cell_type": "code",
   "execution_count": null,
   "id": "5c1981ba-f5fe-49c1-82b4-061f6ef12d1b",
   "metadata": {},
   "outputs": [],
   "source": [
    "#### Download quicklooks of S1 images that have overlapping S2, then manually select which S1 images to download (through visual inspection)"
   ]
  },
  {
   "cell_type": "code",
   "execution_count": 3,
   "id": "915d2177-a205-4cad-8625-e88ffb71e649",
   "metadata": {},
   "outputs": [
    {
     "ename": "IndentationError",
     "evalue": "unexpected indent (2030374187.py, line 20)",
     "output_type": "error",
     "traceback": [
      "\u001b[0;36m  Cell \u001b[0;32mIn[3], line 20\u001b[0;36m\u001b[0m\n\u001b[0;31m    for product in s1_products_overlap:\u001b[0m\n\u001b[0m    ^\u001b[0m\n\u001b[0;31mIndentationError\u001b[0m\u001b[0;31m:\u001b[0m unexpected indent\n"
     ]
    }
   ],
   "source": [
    "# download all quicklooks of S1 images that have overlapping S2\n",
    "api.download_all_quicklooks(s1_products_overlap)\n",
    "\n",
    "# 'selection' is a list that contains the unique product identifiers of the S1 images that we want to download\n",
    "# this list is handmade, after visual inspection oi the quicklooks\n",
    "selection = ['1F44', 'BB21']\n",
    "s1_uuids_for_download = []\n",
    "\n",
    "for product in s1_products_overlap:\n",
    "    for unique_id in selection:\n",
    "        if unique_id in s1_products_overlap[product]['identifier']:\n",
    "            s1_uuids_for_download.append(product)    \n",
    "                \n",
    "## download the manually selected S1 scenes\n",
    "## download does not work in Jupyter Notebook, do it locally\n",
    "# for uuid in s1_uuids_for_download:\n",
    "    # api.download(uuid)"
   ]
  },
  {
   "cell_type": "code",
   "execution_count": null,
   "id": "e3a44091-e002-4903-9a38-71be34c7ddd7",
   "metadata": {},
   "outputs": [],
   "source": [
    "# to download corresponding S2 products, new query is necessary (unless you want to download all S1 and S2 scenes from the first search)\n",
    "for uuid in s1_uuids_for_download:\n",
    "    api.query(uuid)\n",
    "    \n",
    "\n",
    "\n"
   ]
  }
 ],
 "metadata": {
  "kernelspec": {
   "display_name": "Python 3 (ipykernel)",
   "language": "python",
   "name": "python3"
  },
  "language_info": {
   "codemirror_mode": {
    "name": "ipython",
    "version": 3
   },
   "file_extension": ".py",
   "mimetype": "text/x-python",
   "name": "python",
   "nbconvert_exporter": "python",
   "pygments_lexer": "ipython3",
   "version": "3.10.6"
  }
 },
 "nbformat": 4,
 "nbformat_minor": 5
}
