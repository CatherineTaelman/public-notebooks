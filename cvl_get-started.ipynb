{
 "cells": [
  {
   "cell_type": "markdown",
   "id": "944b9723-1d55-4122-9e73-a3a76ecd4ab2",
   "metadata": {},
   "source": [
    "# CVL - Get started\n",
    "\n",
    "## Import packages\n",
    "\n",
    "from osgeo import gdal"
   ]
  }
 ],
 "metadata": {
  "kernelspec": {
   "display_name": "Python 3 (ipykernel)",
   "language": "python",
   "name": "python3"
  },
  "language_info": {
   "codemirror_mode": {
    "name": "ipython",
    "version": 3
   },
   "file_extension": ".py",
   "mimetype": "text/x-python",
   "name": "python",
   "nbconvert_exporter": "python",
   "pygments_lexer": "ipython3",
   "version": "3.10.6"
  }
 },
 "nbformat": 4,
 "nbformat_minor": 5
}
