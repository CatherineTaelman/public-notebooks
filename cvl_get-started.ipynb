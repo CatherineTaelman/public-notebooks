{
 "cells": [
  {
   "cell_type": "markdown",
   "id": "944b9723-1d55-4122-9e73-a3a76ecd4ab2",
   "metadata": {},
   "source": [
    "---\n",
    "# CVL - Get started\n",
    "This is a Jupyter Notebook to get you started on a typical CVL workflow."
   ]
  },
  {
   "cell_type": "markdown",
   "id": "2b91b307-3225-451a-b0ed-c4a6c5950337",
   "metadata": {},
   "source": [
    "---\n",
    "# Import libraries\n",
    "This is how to import libraries (also called packages) which are required later in the code."
   ]
  },
  {
   "cell_type": "code",
   "execution_count": null,
   "id": "c611e7e3-a2d2-47e0-bd8f-539236c759f3",
   "metadata": {},
   "outputs": [],
   "source": [
    "import os\n",
    "import cartopy\n",
    "import cartopy.crs as ccrs\n",
    "import matplotlib.pyplot as plt\n",
    "import numpy as np\n",
    "import xarray as xr"
   ]
  },
  {
   "cell_type": "code",
   "execution_count": null,
   "id": "809c8cfa",
   "metadata": {},
   "outputs": [],
   "source": [
    "import warnings\n",
    "warnings.filterwarnings(\"ignore\")"
   ]
  },
  {
   "cell_type": "markdown",
   "id": "a77a9cf7-0c4e-436c-bc21-239eb1dc9a68",
   "metadata": {},
   "source": [
    "---\n",
    "# Read in data\n",
    "\n",
    "## A) Working with data products remote (supporting OPeNDAP)\n",
    "NetCDF data for instance can be imported directly and we can read either the entire dataset or a subset of it. It is possible to filter by spatial and temporal dimensions.\n",
    "\n",
    "For documentation how to work with xarray library, please visit https://xarray.pydata.org/\n",
    "\n",
    "`open_dataset` method will open the filehandle but not read the entire contents into memory. `load_dataset` method will load the contents into memory"
   ]
  },
  {
   "cell_type": "code",
   "execution_count": null,
   "id": "36850b81-e285-47db-9de4-e24148cbdf0e",
   "metadata": {},
   "outputs": [],
   "source": [
    "# specify dataset url (e.g. Svalbard weather station)\n",
    "data_url = 'https://thredds.met.no/thredds/dodsC/met.no/observations/stations/SN99840.nc'\n",
    "\n",
    "# reading datasets:\n",
    "# decode_times option will allow to manipulate timeseries using time variable\n",
    "\n",
    "dst = xr.open_dataset(data_url, decode_times=True)"
   ]
  },
  {
   "cell_type": "markdown",
   "id": "df3a95ca-b649-4b31-bc7f-921805196fc3",
   "metadata": {},
   "source": [
    "Lets check out what is on the dataset"
   ]
  },
  {
   "cell_type": "code",
   "execution_count": null,
   "id": "9ed28c72-ebb9-405f-8867-7d4dd0ee6bd1",
   "metadata": {
    "scrolled": true
   },
   "outputs": [],
   "source": [
    "dst"
   ]
  },
  {
   "cell_type": "markdown",
   "id": "91c3531e-f0d0-4937-ac98-0afedb449a55",
   "metadata": {},
   "source": [
    "We want to extract air temperature and take only a subset of the dataset"
   ]
  },
  {
   "cell_type": "code",
   "execution_count": null,
   "id": "cb7e9213-e0ef-425c-94a6-0a1bacfba60f",
   "metadata": {},
   "outputs": [],
   "source": [
    "# data subset after 1979\n",
    "tmp = dst['air_temperature_2m'].where(dst['time.year']>=1979,drop=True)\n",
    "\n",
    "# filter data\n",
    "air_temperature_2m = tmp.where(tmp<300)"
   ]
  },
  {
   "cell_type": "markdown",
   "id": "98afc756-f3b4-4c88-872d-6cc4bd38f2a1",
   "metadata": {},
   "source": [
    "Create a figure and plot the extracted data"
   ]
  },
  {
   "cell_type": "code",
   "execution_count": null,
   "id": "8340aa81-945e-4f6e-a42c-15a4f3db5cbd",
   "metadata": {},
   "outputs": [],
   "source": [
    "fig = plt.figure(figsize=(15,5))\n",
    "air_temperature_2m.plot.line(x='time')"
   ]
  },
  {
   "cell_type": "markdown",
   "id": "25b23f1e-ed5d-4f5e-9520-07148019af2a",
   "metadata": {},
   "source": [
    "## B) Working with data products locally (not supporting OPeNDAP)\n",
    "In case data can not be accessed using the OPEnDAP protocol, a local copy of the dataset is required. We will use use `requests` library to obtain the data over HTTP and `tempfile` mmodule to remove the file after the information is extracted."
   ]
  },
  {
   "cell_type": "code",
   "execution_count": null,
   "id": "488d89cc-a889-4bb4-875e-a85017e1db20",
   "metadata": {},
   "outputs": [],
   "source": [
    "import requests\n",
    "import tempfile"
   ]
  },
  {
   "cell_type": "markdown",
   "id": "6ae5aa79-9d32-4fce-be36-b286b1e551d1",
   "metadata": {},
   "source": [
    "Instead of creating a permament copy of a file it is possible to load it only temporarily using `tempfile` Python module. After the data is read from the file into memory the temporary location will be automatically removed."
   ]
  },
  {
   "cell_type": "code",
   "execution_count": null,
   "id": "710ec7e3-f963-45bf-8f6b-761a6dac5166",
   "metadata": {},
   "outputs": [],
   "source": [
    "# url to data file\n",
    "data_url = 'https://api.npolar.no/dataset/5f53146f-0489-4400-a94c-59a6d565bf32/_file/atw12_CTD.nc'\n",
    "\n",
    "# create temporary directory\n",
    "with tempfile.TemporaryDirectory() as tmpdirname:\n",
    "\n",
    "    fpath = os.path.join(tmpdirname, 'tmp.nc')\n",
    "    \n",
    "    # create a request link to the file\n",
    "    r = requests.get(data_url, allow_redirects=True)\n",
    "    \n",
    "    # open a NetCDF file and write the linked file into it\n",
    "    open(fpath, 'wb').write(r.content)\n",
    "    \n",
    "    # load the dataset on to a variable\n",
    "    # it will be available after the temporary directory has been deleted agian\n",
    "    dst = xr.open_dataset(fpath)"
   ]
  },
  {
   "cell_type": "markdown",
   "id": "6cafabe7-2899-44ff-94aa-2a57826d8865",
   "metadata": {},
   "source": [
    "From this point the steps are similar to example **A)** and you can extract a subset of the data and plot it into a figure"
   ]
  },
  {
   "cell_type": "code",
   "execution_count": null,
   "id": "b772eede-aa02-497a-93d3-7119cc034627",
   "metadata": {},
   "outputs": [],
   "source": [
    "fig = plt.figure(figsize=(15,5))\n",
    "dst['TEMP'].plot(x='STATION',y='PRES')\n",
    "plt.gca().invert_yaxis()"
   ]
  },
  {
   "cell_type": "markdown",
   "id": "13c7bc3d",
   "metadata": {},
   "source": [
    "---\n",
    "# Load satellite data\n",
    "\n",
    "Let's add satellite data to the previous plot. We will use Sentinel-2 scene from the CVL data portal served by OPeNDAP server."
   ]
  },
  {
   "cell_type": "code",
   "execution_count": null,
   "id": "5baa999a",
   "metadata": {},
   "outputs": [],
   "source": [
    "url = \"https://nbstds.met.no/thredds/dodsC/NBS/S2B/2022/09/21/S2B_MSIL1C_20220921T125739_N0400_R038_T33XVJ_20220921T150723.nc\"\n",
    "s2_dst = xr.open_dataset(url)\n",
    "s2_dst"
   ]
  },
  {
   "cell_type": "markdown",
   "id": "fae3dac5",
   "metadata": {},
   "source": [
    "# Partial loading of the dataset\n",
    "By specifying how many array elements to skip we can load only Nth element for data preview.\n",
    "\n",
    "---"
   ]
  },
  {
   "cell_type": "code",
   "execution_count": null,
   "id": "f8e7b636",
   "metadata": {},
   "outputs": [],
   "source": [
    "stride = 5\n",
    "ref = s2_dst[\"B4\"][0,::stride,::stride]\n",
    "lon = s2_dst['lon'][::stride,::stride]\n",
    "lat = s2_dst['lat'][::stride,::stride]"
   ]
  },
  {
   "cell_type": "markdown",
   "id": "4515442d-27dc-4a89-bd34-91bc59644f35",
   "metadata": {},
   "source": [
    "---\n",
    "# Create a map in custom projection\n",
    "\n",
    "Below an example of how to create a simple map using the cartopy package."
   ]
  },
  {
   "cell_type": "code",
   "execution_count": null,
   "id": "9bae879f-3908-4e29-a21d-8a3dbc4be327",
   "metadata": {
    "scrolled": true
   },
   "outputs": [],
   "source": [
    "# define projections for the figure and the original set of coordinates\n",
    "orig_projection = ccrs.PlateCarree()\n",
    "target_projection = ccrs.Stereographic(central_longitude=0,central_latitude=60.)\n",
    "\n",
    "# create a figure handle\n",
    "fig = plt.figure(figsize=(12,12))\n",
    "\n",
    "# create an axes handle with the previously specified projection\n",
    "ax = plt.axes(projection=target_projection)\n",
    "\n",
    "# customise map and add features\n",
    "ax.set_extent([10,20,79,80])\n",
    "plt.pcolormesh(lon, lat, ref, transform=orig_projection)\n",
    "\n",
    "ax.gridlines(color='white',draw_labels=True, y_inline=False)\n",
    "ax.coastlines(color='yellow')\n",
    "ax.add_feature(cartopy.feature.LAND)\n",
    "ax.add_feature(cartopy.feature.OCEAN)"
   ]
  }
 ],
 "metadata": {
  "kernelspec": {
   "display_name": "Python 3",
   "language": "python",
   "name": "python3"
  },
  "language_info": {
   "codemirror_mode": {
    "name": "ipython",
    "version": 3
   },
   "file_extension": ".py",
   "mimetype": "text/x-python",
   "name": "python",
   "nbconvert_exporter": "python",
   "pygments_lexer": "ipython3",
   "version": "3.10.6"
  }
 },
 "nbformat": 4,
 "nbformat_minor": 5
}
