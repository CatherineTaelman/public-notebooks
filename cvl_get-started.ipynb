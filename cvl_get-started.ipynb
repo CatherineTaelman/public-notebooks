{
 "cells": [
  {
   "cell_type": "markdown",
   "id": "944b9723-1d55-4122-9e73-a3a76ecd4ab2",
   "metadata": {},
   "source": [
    "# CVL - Get started\n",
    "Get started\n",
    "with\n",
    "some\n",
    "text"
   ]
  },
  {
   "cell_type": "markdown",
   "id": "2b91b307-3225-451a-b0ed-c4a6c5950337",
   "metadata": {},
   "source": [
    "# Import packages\n",
    "This is how to import packages"
   ]
  },
  {
   "cell_type": "code",
   "execution_count": null,
   "id": "c611e7e3-a2d2-47e0-bd8f-539236c759f3",
   "metadata": {},
   "outputs": [],
   "source": [
    "from osgeo import gdal"
   ]
  }
 ],
 "metadata": {
  "kernelspec": {
   "display_name": "Python 3 (ipykernel)",
   "language": "python",
   "name": "python3"
  },
  "language_info": {
   "codemirror_mode": {
    "name": "ipython",
    "version": 3
   },
   "file_extension": ".py",
   "mimetype": "text/x-python",
   "name": "python",
   "nbconvert_exporter": "python",
   "pygments_lexer": "ipython3",
   "version": "3.10.6"
  }
 },
 "nbformat": 4,
 "nbformat_minor": 5
}
