{
 "cells": [
  {
   "cell_type": "code",
   "execution_count": null,
   "id": "292f22db-7e7b-4be9-942d-f1dd20d68950",
   "metadata": {},
   "outputs": [],
   "source": [
    "# CVL - Get started\n",
    "\n",
    "## Import packages\n",
    "\n",
    "from osgeo import gdal"
   ]
  }
 ],
 "metadata": {
  "kernelspec": {
   "display_name": "Python 3 (ipykernel)",
   "language": "python",
   "name": "python3"
  },
  "language_info": {
   "codemirror_mode": {
    "name": "ipython",
    "version": 3
   },
   "file_extension": ".py",
   "mimetype": "text/x-python",
   "name": "python",
   "nbconvert_exporter": "python",
   "pygments_lexer": "ipython3",
   "version": "3.10.6"
  }
 },
 "nbformat": 4,
 "nbformat_minor": 5
}
