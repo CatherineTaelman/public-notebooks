{
 "cells": [
  {
   "cell_type": "code",
   "execution_count": null,
   "id": "dc86b307-f125-4777-a357-1b655b38260e",
   "metadata": {},
   "outputs": [],
   "source": [
    "from osgeo import gdal"
   ]
  }
 ],
 "metadata": {
  "kernelspec": {
   "display_name": "Python 3 (ipykernel)",
   "language": "python",
   "name": "python3"
  },
  "language_info": {
   "codemirror_mode": {
    "name": "ipython",
    "version": 3
   },
   "file_extension": ".py",
   "mimetype": "text/x-python",
   "name": "python",
   "nbconvert_exporter": "python",
   "pygments_lexer": "ipython3",
   "version": "3.10.6"
  }
 },
 "nbformat": 4,
 "nbformat_minor": 5
}
